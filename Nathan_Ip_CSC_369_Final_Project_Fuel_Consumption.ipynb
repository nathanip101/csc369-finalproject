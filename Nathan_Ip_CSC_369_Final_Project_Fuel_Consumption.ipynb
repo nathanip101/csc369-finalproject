{
  "nbformat": 4,
  "nbformat_minor": 0,
  "metadata": {
    "colab": {
      "provenance": []
    },
    "kernelspec": {
      "name": "python3",
      "display_name": "Python 3"
    },
    "language_info": {
      "name": "python"
    }
  },
  "cells": [
    {
      "cell_type": "markdown",
      "source": [
        "#CSC 369 Final Project\n",
        "\n",
        "Vehicle Fuel Consumption"
      ],
      "metadata": {
        "id": "7LA3xKVxLgAT"
      }
    },
    {
      "cell_type": "code",
      "source": [
        "## Spark Setup\n",
        "!pip install pyspark\n",
        "!pip install -U -q PyDrive\n",
        "!apt install openjdk-8-jdk-headless -qq\n",
        "import os\n",
        "os.environ[\"JAVA_HOME\"] = \"/usr/lib/jvm/java-8-openjdk-amd64\""
      ],
      "metadata": {
        "id": "3CxOuTPTYJcI",
        "colab": {
          "base_uri": "https://localhost:8080/"
        },
        "outputId": "6f290d16-d25e-4c82-aa91-8a80a67e1190"
      },
      "execution_count": 1,
      "outputs": [
        {
          "output_type": "stream",
          "name": "stdout",
          "text": [
            "Requirement already satisfied: pyspark in /usr/local/lib/python3.10/dist-packages (3.4.1)\n",
            "Requirement already satisfied: py4j==0.10.9.7 in /usr/local/lib/python3.10/dist-packages (from pyspark) (0.10.9.7)\n",
            "openjdk-8-jdk-headless is already the newest version (8u372-ga~us1-0ubuntu1~22.04).\n",
            "0 upgraded, 0 newly installed, 0 to remove and 9 not upgraded.\n"
          ]
        }
      ]
    },
    {
      "cell_type": "markdown",
      "source": [
        "## Introduction\n",
        "The goal of this project is to examine the relationship between fuel consumption and various factors such as model year, vehicle class, engine size, and others.\n"
      ],
      "metadata": {
        "id": "pXGb0rU0MGpJ"
      }
    },
    {
      "cell_type": "markdown",
      "source": [
        "## Dataset\n",
        "\n",
        "The [dataset](https://www.kaggle.com/datasets/ahmettyilmazz/fuel-consumption) found on Kaggle provides model-specific fuel consumption ratings and estimated carbon dioxide emissions for new light-duty vehicles for retail sale in Canada. There are 22556 rows in this dataset.\n",
        "\n",
        "To help compare vehicles the from different model years, the fuel consumption ratings for 2000 to 2022 vehicles have been adjusted to reflect the improved testing that is more representative of everyday driving. Note that these are approximate values that were generated from the original ratings, not from vehicle testing.\n",
        "\n",
        "In order to have proper analysis of the data, I had to modify the some columns as text values were being reported differently (\"Compact\" vs. \"COMPACT\").\n",
        "\n",
        "Data Layout:\n",
        "  * Year\n",
        "  * Make\n",
        "  * Model\n",
        "  * Vehicle Class\n",
        "  * Engine Size\n",
        "  * Cylinders\n",
        "  * Transmission\n",
        "  * Fuel\n",
        "  * Fuel Consumption\n",
        "  * HWY (L/100KM)\n",
        "  * COMB (L/100KM)\n",
        "  * COMB (mpg)\n",
        "  * Emissions"
      ],
      "metadata": {
        "id": "_tVr_mvWMKye"
      }
    },
    {
      "cell_type": "markdown",
      "source": [
        "## Questions\n",
        "\n",
        "- Which model years have the highest fuel efficiency?\n",
        "  - Is there a linear relationship between year and fuel efficiency?\n",
        "  - Does newer mean better?\n",
        "\n",
        "- Which vehicle class has the highest fuel efficiency?\n",
        "\n",
        "- Is there a relationship between engine size and fuel efficiency? (Does smaller engine mean more efficient...?)\n",
        "\n",
        "- Is there a relationship between cyclinder count and fuel efficiency? (Does less cylinders mean more efficienct...?)"
      ],
      "metadata": {
        "id": "7Aj3lCfzY5QV"
      }
    },
    {
      "cell_type": "markdown",
      "source": [
        "### Import data into Spark"
      ],
      "metadata": {
        "id": "0lFUMi-_YQb8"
      }
    },
    {
      "cell_type": "code",
      "source": [
        "!wget -q https://raw.githubusercontent.com/nathanip101/csc369-finalproject/master/Fuel_Consumption_2000-2022.csv"
      ],
      "metadata": {
        "id": "RDeJLwGh1d7M"
      },
      "execution_count": 2,
      "outputs": []
    },
    {
      "cell_type": "markdown",
      "source": [
        "#### Import Spark Functions"
      ],
      "metadata": {
        "id": "XLEfUUUJY-iw"
      }
    },
    {
      "cell_type": "code",
      "source": [
        "from pyspark import SparkContext, SparkConf\n",
        "from pyspark.sql import SparkSession, SQLContext\n",
        "from pyspark.sql import types as sparktypes\n",
        "from pyspark.sql.functions import col, lit, avg, count\n",
        "from pyspark.ml.feature import VectorAssembler\n",
        "from pyspark.ml.regression import LinearRegression\n",
        "\n",
        "sc = SparkContext()\n",
        "spark = SparkSession(sc)"
      ],
      "metadata": {
        "id": "rxuuY9deYO1D"
      },
      "execution_count": 3,
      "outputs": []
    },
    {
      "cell_type": "markdown",
      "source": [
        "#### Set Up DataFrame"
      ],
      "metadata": {
        "id": "yre1mxn6ZRv6"
      }
    },
    {
      "cell_type": "code",
      "source": [
        "df = spark.read.options(header=True).csv(\"Fuel_Consumption_2000-2022.csv\")\n",
        "df.show()"
      ],
      "metadata": {
        "colab": {
          "base_uri": "https://localhost:8080/"
        },
        "id": "ny8X3CLjZUeu",
        "outputId": "56dc91fe-bedc-4b2d-92a2-4b97f52a7593"
      },
      "execution_count": 4,
      "outputs": [
        {
          "output_type": "stream",
          "name": "stdout",
          "text": [
            "+----+-----+---------------+-------------+-----------+---------+------------+----+----------------+--------------+---------------+----------+---------+\n",
            "|YEAR| MAKE|          MODEL|VEHICLE CLASS|ENGINE SIZE|CYLINDERS|TRANSMISSION|FUEL|FUEL CONSUMPTION|HWY (L/100 km)|COMB (L/100 km)|COMB (mpg)|EMISSIONS|\n",
            "+----+-----+---------------+-------------+-----------+---------+------------+----+----------------+--------------+---------------+----------+---------+\n",
            "|2000|ACURA|          1.6EL|      COMPACT|        1.6|        4|          A4|   X|             9.2|           6.7|            8.1|        35|      186|\n",
            "|2000|ACURA|          1.6EL|      COMPACT|        1.6|        4|          M5|   X|             8.5|           6.5|            7.6|        37|      175|\n",
            "|2000| AUDI|             A4|      COMPACT|        1.8|        4|          A5|   Z|            11.4|           7.2|            9.5|        30|      218|\n",
            "|2000| AUDI|             A4|      COMPACT|        1.8|        4|          M5|   Z|             9.7|           6.8|            8.4|        34|      193|\n",
            "|2000| AUDI|             A4|      COMPACT|        2.8|        6|          A5|   Z|              13|           8.2|           10.8|        26|      248|\n",
            "|2000| AUDI|             A4|      COMPACT|        2.8|        6|          M5|   Z|            11.7|           7.5|            9.8|        29|      225|\n",
            "|2000| AUDI|     A4 QUATTRO|      COMPACT|        1.8|        4|          A5|   Z|            12.1|           7.7|           10.1|        28|      232|\n",
            "|2000| AUDI|     A4 QUATTRO|      COMPACT|        1.8|        4|          M5|   Z|            10.7|           7.5|            9.3|        30|      214|\n",
            "|2000| AUDI|     A4 QUATTRO|      COMPACT|        2.8|        6|          A5|   Z|            13.3|           8.5|           11.1|        25|      255|\n",
            "|2000| AUDI|     A4 QUATTRO|      COMPACT|        2.8|        6|          M5|   Z|            12.7|           8.7|           10.9|        26|      251|\n",
            "|2000| AUDI|     S4 QUATTRO|      COMPACT|        2.7|        6|          A5|   Z|            13.6|             9|           11.5|        25|      264|\n",
            "|2000| AUDI|     S4 QUATTRO|      COMPACT|        2.7|        6|          M6|   Z|            13.6|           9.1|           11.6|        24|      267|\n",
            "|2000|  BMW|323 CONVERTIBLE|      COMPACT|        2.5|        6|          A5|   Z|              13|           8.9|           11.2|        25|      258|\n",
            "|2000|  BMW|323 CONVERTIBLE|      COMPACT|        2.5|        6|          M5|   Z|            12.4|           8.6|           10.7|        26|      246|\n",
            "|2000|  BMW|          323Ci|      COMPACT|        2.5|        6|          A5|   Z|            12.3|           7.8|           10.3|        27|      237|\n",
            "|2000|  BMW|          323Ci|      COMPACT|        2.5|        6|          M5|   Z|            11.5|           7.5|            9.7|        29|      223|\n",
            "|2000|  BMW|           323i|      COMPACT|        2.5|        6|          A5|   Z|            12.3|           7.8|           10.3|        27|      237|\n",
            "|2000|  BMW|           323i|      COMPACT|        2.5|        6|          M5|   Z|            11.5|           7.5|            9.7|        29|      223|\n",
            "|2000|  BMW|          328Ci|      COMPACT|        2.8|        6|          A5|   Z|            12.4|           7.9|           10.4|        27|      239|\n",
            "|2000|  BMW|          328Ci|      COMPACT|        2.8|        6|          M5|   Z|            11.5|           7.5|            9.7|        29|      223|\n",
            "+----+-----+---------------+-------------+-----------+---------+------------+----+----------------+--------------+---------------+----------+---------+\n",
            "only showing top 20 rows\n",
            "\n"
          ]
        }
      ]
    },
    {
      "cell_type": "markdown",
      "source": [
        "## Which model years have the highest fuel efficiency?"
      ],
      "metadata": {
        "id": "UMEGHIM0ikx8"
      }
    },
    {
      "cell_type": "markdown",
      "source": [
        "#### First, lets get the average MPG for each model year."
      ],
      "metadata": {
        "id": "mlXqEtFI41jD"
      }
    },
    {
      "cell_type": "code",
      "source": [
        "grouped_df = (df\n",
        "                .groupby('YEAR')\n",
        "                .agg(avg('COMB (mpg)'))\n",
        "                .orderBy(\"avg(COMB (mpg))\")\n",
        "                .withColumnRenamed(\"avg(COMB (mpg))\", \"AVG_MPG\")\n",
        "                )\n",
        "avg_mpg_df = (grouped_df\n",
        "                  .withColumn('AVG_MPG', (grouped_df['AVG_MPG'] * 10)\n",
        "                  .cast('integer') / 10)\n",
        "                  )\n",
        "avg_mpg_df.show()"
      ],
      "metadata": {
        "colab": {
          "base_uri": "https://localhost:8080/"
        },
        "id": "pCc3frpciogI",
        "outputId": "c011e364-f707-4c95-a8bc-67fb5655309a"
      },
      "execution_count": 5,
      "outputs": [
        {
          "output_type": "stream",
          "name": "stdout",
          "text": [
            "+----+-------+\n",
            "|YEAR|AVG_MPG|\n",
            "+----+-------+\n",
            "|2002|   25.8|\n",
            "|2004|   25.9|\n",
            "|2007|   26.1|\n",
            "|2003|   26.1|\n",
            "|2005|   26.2|\n",
            "|2006|   26.4|\n",
            "|2000|   26.4|\n",
            "|2001|   26.5|\n",
            "|2008|   26.5|\n",
            "|2009|   26.6|\n",
            "|2022|   27.1|\n",
            "|2021|   27.3|\n",
            "|2020|   27.4|\n",
            "|2015|   27.5|\n",
            "|2019|   27.6|\n",
            "|2018|   27.6|\n",
            "|2010|   27.6|\n",
            "|2017|   27.6|\n",
            "|2016|   27.7|\n",
            "|2011|   27.9|\n",
            "+----+-------+\n",
            "only showing top 20 rows\n",
            "\n"
          ]
        }
      ]
    },
    {
      "cell_type": "markdown",
      "source": [
        "#### Now let's perform a linear regression on the data to see if there's a linear relationship between model year and average miles-per-gallon."
      ],
      "metadata": {
        "id": "cW_j1cxm5uqv"
      }
    },
    {
      "cell_type": "code",
      "source": [
        "df = df.withColumn('YEAR', col('YEAR').cast('integer'))\n",
        "avg_mpg_df = avg_mpg_df.withColumn('YEAR', col('YEAR').cast('integer'))\n",
        "df = df.withColumn(\"COMB (mpg)\", col(\"COMB (mpg)\").cast('integer'))\n",
        "\n",
        "year_assembler1 = VectorAssembler(inputCols=['YEAR'], outputCol='features')\n",
        "year_assembled_data1 = year_assembler1.transform(df)\n",
        "\n",
        "year_lr1 = LinearRegression(featuresCol='features', labelCol=\"COMB (mpg)\")\n",
        "year_lr_model1 = year_lr1.fit(year_assembled_data1)\n",
        "\n",
        "year_assembler2 = VectorAssembler(inputCols=['YEAR'], outputCol='features')\n",
        "year_assembled_data2 = year_assembler2.transform(avg_mpg_df)\n",
        "\n",
        "year_lr2 = LinearRegression(featuresCol='features', labelCol=\"AVG_MPG\")\n",
        "year_lr_model2 = year_lr2.fit(year_assembled_data2)\n",
        "\n",
        "print(f\"Linear Regression Summary: \")\n",
        "print(f\"MPG Model Coefficient: {year_lr_model1.coefficients}\")\n",
        "print(f\"Average MPG Model Coefficient: {year_lr_model2.coefficients}\")\n",
        "print()\n",
        "print(f\"Year to MPG R-squared: {round(year_lr_model1.summary.r2, 2)}\")\n",
        "if year_lr_model1.summary.r2 > 0.5:\n",
        "  print(\"The relationship between model year and fuel efficiency is linear.\")\n",
        "else:\n",
        "  print(\"The relationship between model year and fuel efficiency is not linear.\")\n",
        "print()\n",
        "print(f\"Year to Average MPG R-squared: {round(year_lr_model2.summary.r2, 2)}\")\n",
        "if year_lr_model2.summary.r2 > 0.5:\n",
        "  print(\"The relationship between model year and average fuel efficiency is linear.\")\n",
        "else:\n",
        "  print(\"The relationship between model year and average fuel efficiency is not linear.\")\n"
      ],
      "metadata": {
        "colab": {
          "base_uri": "https://localhost:8080/"
        },
        "id": "c9RLeZOn5uZ1",
        "outputId": "3b002578-442d-4edf-8b97-dbbd1d6472d5"
      },
      "execution_count": 6,
      "outputs": [
        {
          "output_type": "stream",
          "name": "stdout",
          "text": [
            "Linear Regression Summary: \n",
            "MPG Model Coefficient: [0.09368901201148375]\n",
            "Average MPG Model Coefficient: [0.09328063241146486]\n",
            "\n",
            "Year to MPG R-squared: 0.01\n",
            "The relationship between model year and fuel efficiency is not linear.\n",
            "\n",
            "Year to Average MPG R-squared: 0.28\n",
            "The relationship between model year and average fuel efficiency is not linear.\n"
          ]
        }
      ]
    },
    {
      "cell_type": "markdown",
      "source": [],
      "metadata": {
        "id": "5LxglPXg7hAL"
      }
    },
    {
      "cell_type": "markdown",
      "source": [
        "## Which vehicle class has the highest fuel efficiency?"
      ],
      "metadata": {
        "id": "7VkDOeFLBVNB"
      }
    },
    {
      "cell_type": "code",
      "source": [
        "grouped_df = (df\n",
        "                .groupBy(\"VEHICLE CLASS\")\n",
        "                .agg(avg(\"COMB (mpg)\").alias(\"AVG_MPG\"), count(\"*\").alias(\"CLASS_COUNT\"))\n",
        "                .orderBy(\"AVG_MPG\", ascending=False)\n",
        "                )\n",
        "class_sorted_df = (grouped_df\n",
        "                  .withColumn('AVG_MPG', (grouped_df['AVG_MPG'] * 10)\n",
        "                  .cast('integer') / 10)\n",
        "                  )\n",
        "class_sorted_df.show(truncate=False)\n"
      ],
      "metadata": {
        "colab": {
          "base_uri": "https://localhost:8080/"
        },
        "id": "arz8N37cnJSe",
        "outputId": "8f84ce08-f852-4fda-b4c9-db3c348c54e9"
      },
      "execution_count": 7,
      "outputs": [
        {
          "output_type": "stream",
          "name": "stdout",
          "text": [
            "+------------------------+-------+-----------+\n",
            "|VEHICLE CLASS           |AVG_MPG|CLASS_COUNT|\n",
            "+------------------------+-------+-----------+\n",
            "|STATION WAGON - SMALL   |33.2   |877        |\n",
            "|COMPACT                 |32.2   |3127       |\n",
            "|MID-SIZE                |30.7   |2960       |\n",
            "|SUBCOMPACT              |29.3   |2010       |\n",
            "|SUV - SMALL             |29.0   |1756       |\n",
            "|MINICOMPACT             |28.7   |994        |\n",
            "|STATION WAGON - MID-SIZE|28.7   |387        |\n",
            "|SPECIAL PURPOSE VEHICLE |27.3   |114        |\n",
            "|TWO-SEATER              |26.0   |1312       |\n",
            "|FULL-SIZE               |25.9   |1503       |\n",
            "|MINIVAN                 |25.2   |408        |\n",
            "|PICKUP TRUCK - SMALL    |25.0   |511        |\n",
            "|SUV                     |24.5   |2640       |\n",
            "|SUV - STANDARD          |22.0   |1122       |\n",
            "|PICKUP TRUCK - STANDARD |21.0   |2204       |\n",
            "|VAN - CARGO             |18.5   |332        |\n",
            "|VAN - PASSENGER         |17.0   |299        |\n",
            "+------------------------+-------+-----------+\n",
            "\n"
          ]
        }
      ]
    },
    {
      "cell_type": "markdown",
      "source": [
        "Surprisingly, small station wagons beat out compact cars as the vehicle  class with the lowest MPG. That was not something I expected."
      ],
      "metadata": {
        "id": "iwe_cdWvClAE"
      }
    },
    {
      "cell_type": "markdown",
      "source": [
        "## Is there a relationship between engine size and fuel efficiency?\n"
      ],
      "metadata": {
        "id": "wVjfwpDQDJsK"
      }
    },
    {
      "cell_type": "code",
      "source": [
        "df = df.withColumn('ENGINE SIZE', col('ENGINE SIZE').cast('integer'))\n",
        "\n",
        "assembler = VectorAssembler(inputCols=[\"ENGINE SIZE\"], outputCol=\"features\")\n",
        "df_with_features = assembler.transform(df)\n",
        "\n",
        "lr = LinearRegression(featuresCol=\"features\", labelCol=\"COMB (mpg)\")\n",
        "engine_size_lr_model = lr.fit(df_with_features)\n",
        "\n",
        "print(\"Linear Regression Coefficients: \", engine_size_lr_model.coefficients)\n",
        "engine_size_coefficient = engine_size_lr_model.coefficients[0]\n",
        "if engine_size_coefficient < 0:\n",
        "    print(\"Smaller engine size results in higher fuel efficiency.\")\n",
        "elif engine_size_coefficient > 0:\n",
        "    print(\"Smaller engine size results in lower fuel efficiency.\")\n",
        "else:\n",
        "    print(\"Engine size doesn't have a significant impact on fuel efficiency.\")\n",
        "\n",
        "print()\n",
        "\n",
        "print(f\"R-squared: {round(engine_size_lr_model.summary.r2, 2)}\")\n",
        "if engine_size_lr_model.summary.r2 > 0.5:\n",
        "  print(\"The relationship between engine size and fuel efficiency is linear.\")\n",
        "else:\n",
        "  print(\"The relationship between engine size and fuel efficiency is not linear.\")"
      ],
      "metadata": {
        "colab": {
          "base_uri": "https://localhost:8080/"
        },
        "id": "vJV742rTDN_S",
        "outputId": "553f5390-1b7c-4ee9-fa34-856fdd8ed0b2"
      },
      "execution_count": 8,
      "outputs": [
        {
          "output_type": "stream",
          "name": "stdout",
          "text": [
            "Linear Regression Coefficients:  [-4.1300417066875195]\n",
            "Smaller engine size results in higher fuel efficiency.\n",
            "\n",
            "R-squared: 0.57\n",
            "The relationship between engine size and fuel efficiency is linear.\n"
          ]
        }
      ]
    },
    {
      "cell_type": "markdown",
      "source": [
        "## Is there a relationship between cyclinder count and fuel efficiency?"
      ],
      "metadata": {
        "id": "yUCSKgkDKnMq"
      }
    },
    {
      "cell_type": "code",
      "source": [
        "df = df.withColumn('CYLINDERS', col('CYLINDERS').cast('integer'))\n",
        "\n",
        "assembler = VectorAssembler(inputCols=[\"CYLINDERS\"], outputCol=\"features\")\n",
        "df_with_features = assembler.transform(df)\n",
        "\n",
        "lr = LinearRegression(featuresCol=\"features\", labelCol=\"COMB (mpg)\")\n",
        "cylinder_count_lr_model = lr.fit(df_with_features)\n",
        "\n",
        "print(\"Linear Regression Coefficients: \", cylinder_count_lr_model.coefficients)\n",
        "engine_size_coefficient = cylinder_count_lr_model.coefficients[0]\n",
        "cylinder_count_coefficient = cylinder_count_lr_model.coefficients[0]\n",
        "if cylinder_count_coefficient < 0:\n",
        "    print(\"Lower cylinder count results in higher fuel efficiency.\")\n",
        "elif cylinder_count_coefficient > 0:\n",
        "    print(\"Lower cylinder count results in lower fuel efficiency.\")\n",
        "else:\n",
        "    print(\"Cylinder count doesn't have a significant impact on fuel efficiency.\")\n",
        "\n",
        "print()\n",
        "\n",
        "print(f\"R-squared: {round(cylinder_count_lr_model.summary.r2, 2)}\")\n",
        "if cylinder_count_lr_model.summary.r2 > 0.5:\n",
        "  print(\"The relationship between cylinder count and fuel efficiency is linear.\")\n",
        "else:\n",
        "  print(\"The relationship between cylinder count and fuel efficiency is not linear.\")\n"
      ],
      "metadata": {
        "colab": {
          "base_uri": "https://localhost:8080/"
        },
        "id": "sVzugDj2KuRg",
        "outputId": "95b684de-11ea-4c40-93f6-24b98a2b1911"
      },
      "execution_count": 9,
      "outputs": [
        {
          "output_type": "stream",
          "name": "stdout",
          "text": [
            "Linear Regression Coefficients:  [-2.8955572544468278]\n",
            "Lower cylinder count results in higher fuel efficiency.\n",
            "\n",
            "R-squared: 0.51\n",
            "The relationship between cylinder count and fuel efficiency is linear.\n"
          ]
        }
      ]
    },
    {
      "cell_type": "markdown",
      "source": [
        "## Results"
      ],
      "metadata": {
        "id": "7CuLSPOyombU"
      }
    },
    {
      "cell_type": "markdown",
      "source": [
        "### Which model years have the highest fuel efficiency?"
      ],
      "metadata": {
        "id": "IiGJC6W0oyx3"
      }
    },
    {
      "cell_type": "code",
      "source": [
        "avg_mpg_df.toPandas().plot(x=\"YEAR\", y=\"AVG_MPG\", kind=\"bar\")\n",
        "\n",
        "print(f\"Linear Regression Summary: \")\n",
        "print(f\"MPG Model Coefficient: {year_lr_model1.coefficients}\")\n",
        "print(f\"Average MPG Model Coefficient: {year_lr_model2.coefficients}\")\n",
        "print()\n",
        "print(f\"Year to MPG R-squared: {round(year_lr_model1.summary.r2, 2)}\")\n",
        "if year_lr_model1.summary.r2 > 0.5:\n",
        "  print(\"The relationship between cylinder count and fuel efficiency is linear.\")\n",
        "else:\n",
        "  print(\"The relationship between cylinder count and fuel efficiency is not linear.\")\n",
        "print()\n",
        "print(f\"Year to Average MPG R-squared: {round(year_lr_model2.summary.r2, 2)}\")\n",
        "if year_lr_model2.summary.r2 > 0.5:\n",
        "  print(\"The relationship between cylinder count and fuel efficiency is linear.\")\n",
        "else:\n",
        "  print(\"The relationship between cylinder count and fuel efficiency is not linear.\")\n"
      ],
      "metadata": {
        "colab": {
          "base_uri": "https://localhost:8080/",
          "height": 650
        },
        "id": "UxGCu0kpoyWl",
        "outputId": "076686c3-5aa3-4dc4-fb20-9122ebe2c298"
      },
      "execution_count": 10,
      "outputs": [
        {
          "output_type": "stream",
          "name": "stdout",
          "text": [
            "Linear Regression Summary: \n",
            "MPG Model Coefficient: [0.09368901201148375]\n",
            "Average MPG Model Coefficient: [0.09328063241146486]\n",
            "\n",
            "Year to MPG R-squared: 0.01\n",
            "The relationship between cylinder count and fuel efficiency is not linear.\n",
            "\n",
            "Year to Average MPG R-squared: 0.28\n",
            "The relationship between cylinder count and fuel efficiency is not linear.\n"
          ]
        },
        {
          "output_type": "display_data",
          "data": {
            "text/plain": [
              "<Figure size 640x480 with 1 Axes>"
            ],
            "image/png": "[encoded data removed]"
          },
          "metadata": {}
        }
      ]
    },
    {
      "cell_type": "markdown",
      "source": [
        "As seen in the above, there doesn't seem like there is a correlation between the year and the efficiency of the vehicle. This is also supported by our linear regression model.\n",
        "\n",
        "In order to find the relationship between model years and miles-per-gallon numbers, we made two linear regression models, one with the model year and MPG, and the second with where we grouped together all vehicles within each model year and averaged their MPG.\n",
        "\n",
        "An acceptable R-squared value that can be considered a linear relationship falls between 0.50 and 0.99. As shown, the R-squared values are 0.01 and 0.28, both of which are far from the optimal range. Therefore, it can be concluded that there is no linear relationship between model year and miles-per-gallon. In addition to that, just looking at the data, cars from 2011 had a higher MPG than the ones made in 2022. That being said, if we look at the coefficients of both models, they are positive, signifying that it can be said that, the newer the car, the better the MPG; it just can't be concluded that a newer car is guaranteed a better MPG.\n",
        "\n",
        "I had thought that, as newer vehicles and newer technologies were developed, fuel efficiency would improve. However, per this dataset, that is not the case. That could be because of many factors. Maybe I can examine those in the future"
      ],
      "metadata": {
        "id": "qgpY9gAQpjZY"
      }
    },
    {
      "cell_type": "markdown",
      "source": [
        "### Which vehicle class has the highest fuel efficiency?"
      ],
      "metadata": {
        "id": "SK5cvObhp0Ju"
      }
    },
    {
      "cell_type": "code",
      "source": [
        "class_sorted_df.toPandas().plot(x=\"VEHICLE CLASS\", y=\"AVG_MPG\", kind=\"bar\")"
      ],
      "metadata": {
        "colab": {
          "base_uri": "https://localhost:8080/",
          "height": 667
        },
        "id": "SCZAFCvrpzvT",
        "outputId": "4bd3f734-40c5-4736-ebf9-4991397cbbd7"
      },
      "execution_count": 11,
      "outputs": [
        {
          "output_type": "execute_result",
          "data": {
            "text/plain": [
              "<Axes: xlabel='VEHICLE CLASS'>"
            ]
          },
          "metadata": {},
          "execution_count": 11
        },
        {
          "output_type": "display_data",
          "data": {
            "text/plain": [
              "<Figure size 640x480 with 1 Axes>"
            ],
            "image/png": "[encoded data removed]"
          },
          "metadata": {}
        }
      ]
    },
    {
      "cell_type": "markdown",
      "source": [
        "### Is there a relationship between engine size and fuel efficiency?"
      ],
      "metadata": {
        "id": "o0Uj5Tm8rYHY"
      }
    },
    {
      "cell_type": "code",
      "source": [
        "print(\"Linear Regression Coefficients: \", engine_size_lr_model.coefficients)\n",
        "engine_size_coefficient = engine_size_lr_model.coefficients[0]\n",
        "if engine_size_coefficient < 0:\n",
        "    print(\"Smaller engine size results in higher fuel efficiency.\")\n",
        "elif engine_size_coefficient > 0:\n",
        "    print(\"Smaller engine size results in lower fuel efficiency.\")\n",
        "else:\n",
        "    print(\"Engine size doesn't have a significant impact on fuel efficiency.\")\n",
        "\n",
        "print()\n",
        "\n",
        "print(f\"R-squared: {round(engine_size_lr_model.summary.r2, 2)}\")\n",
        "if engine_size_lr_model.summary.r2 > 0.5:\n",
        "  print(\"The relationship between engine size and fuel efficiency is linear.\")\n",
        "else:\n",
        "  print(\"The relationship between engine size and fuel efficiency is not linear.\")"
      ],
      "metadata": {
        "colab": {
          "base_uri": "https://localhost:8080/"
        },
        "id": "fWO6_4l2rX11",
        "outputId": "3cbf12ac-48b4-47f2-ed21-74a816318b4f"
      },
      "execution_count": 12,
      "outputs": [
        {
          "output_type": "stream",
          "name": "stdout",
          "text": [
            "Linear Regression Coefficients:  [-4.1300417066875195]\n",
            "Smaller engine size results in higher fuel efficiency.\n",
            "\n",
            "R-squared: 0.57\n",
            "The relationship between engine size and fuel efficiency is linear.\n"
          ]
        }
      ]
    },
    {
      "cell_type": "markdown",
      "source": [
        "From this we can conclude that yes, there is a relationship between engine size and fuel efficiency, and it is a linear relationship. We also now know that a smaller egnine results in a higher average miles per gallon."
      ],
      "metadata": {
        "id": "0FkjWjfYrcuW"
      }
    },
    {
      "cell_type": "markdown",
      "source": [
        "### Is there a relationship between cyclinder count and fuel efficiency?"
      ],
      "metadata": {
        "id": "vfxpT5Oorl9C"
      }
    },
    {
      "cell_type": "code",
      "source": [
        "print(\"Linear Regression Coefficients: \", cylinder_count_lr_model.coefficients)\n",
        "engine_size_coefficient = cylinder_count_lr_model.coefficients[0]\n",
        "cylinder_count_coefficient = cylinder_count_lr_model.coefficients[0]\n",
        "if cylinder_count_coefficient < 0:\n",
        "    print(\"Lower cylinder count results in higher fuel efficiency.\")\n",
        "elif cylinder_count_coefficient > 0:\n",
        "    print(\"Lower cylinder count results in lower fuel efficiency.\")\n",
        "else:\n",
        "    print(\"Cylinder count doesn't have a significant impact on fuel efficiency.\")\n",
        "\n",
        "print()\n",
        "\n",
        "print(f\"R-squared: {round(cylinder_count_lr_model.summary.r2, 2)}\")\n",
        "if cylinder_count_lr_model.summary.r2 > 0.5:\n",
        "  print(\"The relationship between cylinder count and fuel efficiency is linear.\")\n",
        "else:\n",
        "  print(\"The relationship between cylinder count and fuel efficiency is not linear.\")\n"
      ],
      "metadata": {
        "colab": {
          "base_uri": "https://localhost:8080/"
        },
        "id": "DhjF9eUUr5Jo",
        "outputId": "33655516-d96d-44b1-8005-0b9ec079f071"
      },
      "execution_count": 13,
      "outputs": [
        {
          "output_type": "stream",
          "name": "stdout",
          "text": [
            "Linear Regression Coefficients:  [-2.8955572544468278]\n",
            "Lower cylinder count results in higher fuel efficiency.\n",
            "\n",
            "R-squared: 0.51\n",
            "The relationship between cylinder count and fuel efficiency is linear.\n"
          ]
        }
      ]
    },
    {
      "cell_type": "markdown",
      "source": [
        "From this we can conclude that yes, there is a relationship between cyclinder count and fuel efficiency, and it is a linear relationship. Less cylinders results in a higher miles per gallon."
      ],
      "metadata": {
        "id": "QNYpnV2Ir7A_"
      }
    },
    {
      "cell_type": "markdown",
      "source": [
        "## Conclusion"
      ],
      "metadata": {
        "id": "3ONRbrvMZWsP"
      }
    },
    {
      "cell_type": "markdown",
      "source": [
        "It was interesting working with this dataset. There were some things I expected, such as the effects of engine size and cylinder count on miles per gallon. However, I was expecting a greater correlation between the year a vehicle was manufactured and its fuel efficiency.\n",
        "\n",
        "Overall, I liked using PySpark to handle this data. I have used Pandas before to handle similar datasets and PySpark was just as easy to use. PySpark is a great tool to use to interface data and I will consider it in my future projects!"
      ],
      "metadata": {
        "id": "UuwO-CeuSegT"
      }
    }
  ]
}